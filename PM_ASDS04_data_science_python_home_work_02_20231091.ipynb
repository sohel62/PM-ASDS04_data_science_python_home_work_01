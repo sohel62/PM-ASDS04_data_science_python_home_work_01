{
  "nbformat": 4,
  "nbformat_minor": 0,
  "metadata": {
    "colab": {
      "provenance": [],
      "include_colab_link": true
    },
    "kernelspec": {
      "name": "python3",
      "display_name": "Python 3"
    },
    "language_info": {
      "name": "python"
    }
  },
  "cells": [
    {
      "cell_type": "markdown",
      "metadata": {
        "id": "view-in-github",
        "colab_type": "text"
      },
      "source": [
        "<a href=\"https://colab.research.google.com/github/sohel62/PM-ASDS04_data_science_python_home_work_02/blob/master/PM_ASDS04_data_science_python_home_work_02_20231091.ipynb\" target=\"_parent\"><img src=\"https://colab.research.google.com/assets/colab-badge.svg\" alt=\"Open In Colab\"/></a>"
      ]
    },
    {
      "cell_type": "markdown",
      "source": [
        "**`Homework 02 Pandas and NumPy Exercise for Data Analysis`**\n",
        "\n",
        "---\n",
        "\n",
        "\n",
        "# Roll: 20231091\n",
        "**Name: Mohammad Taslim Mazumder Sohel**\n",
        "\n",
        "# 1. NumPy Array Exercises\n",
        "\n"
      ],
      "metadata": {
        "id": "tDyJjLUyEEMu"
      }
    },
    {
      "cell_type": "code",
      "source": [
        "import numpy as np\n",
        "\n",
        "empty_arr = np.empty((3, 3))\n",
        "print(\"Empty Array: \\n\",empty_arr)\n",
        "\n",
        "zeros_arr = np.zeros((3, 3))\n",
        "print(\"\\nArray with zeros: \\n\",zeros_arr)\n",
        "\n",
        "ones_arr = np.ones((3, 3))\n",
        "print(\"\\nArray with One: \\n\",ones_arr)\n",
        "\n",
        "arr1 = np.array([1, 2, 3])\n",
        "arr2 = np.array([[4, 5, 6], [7, 8, 9]])\n",
        "combined_arr = np.vstack((arr1, arr2))\n",
        "print(\"\\nCombine array of one nad two dimention: \\n\",combined_arr)\n",
        "\n",
        "\n",
        "arr = np.array([[0, 1, 0], [2, 0, 3]])\n",
        "nonzero_count = np.count_nonzero(arr)\n",
        "print(\"\\nCount: \",nonzero_count)"
      ],
      "metadata": {
        "colab": {
          "base_uri": "https://localhost:8080/"
        },
        "id": "kJsOYm13ELCE",
        "outputId": "f7bfa8c6-d426-4c50-d981-7d374d23d10f"
      },
      "execution_count": 2,
      "outputs": [
        {
          "output_type": "stream",
          "name": "stdout",
          "text": [
            "Empty Array: \n",
            " [[1.91348463e-316 0.00000000e+000 6.91473548e-310]\n",
            " [2.07091370e-316 0.00000000e+000 0.00000000e+000]\n",
            " [9.88131292e-324 0.00000000e+000 1.18575755e-321]]\n",
            "\n",
            "Array with zeros: \n",
            " [[0. 0. 0.]\n",
            " [0. 0. 0.]\n",
            " [0. 0. 0.]]\n",
            "\n",
            "Array with One: \n",
            " [[1. 1. 1.]\n",
            " [1. 1. 1.]\n",
            " [1. 1. 1.]]\n",
            "\n",
            "Combine array of one nad two dimention: \n",
            " [[1 2 3]\n",
            " [4 5 6]\n",
            " [7 8 9]]\n",
            "\n",
            "Count:  3\n"
          ]
        }
      ]
    },
    {
      "cell_type": "markdown",
      "source": [
        "# 2. NumPy Matrix Exercises"
      ],
      "metadata": {
        "id": "xfRVbbjHyxNg"
      }
    },
    {
      "cell_type": "markdown",
      "source": [
        "2**.Numpy Matrix Exercises**\n",
        " Get the maximum value from given matrix\n",
        " . Get the minimum value from given matrix\n",
        " . Find the number of rows and columns of a given matrix using NumPy\n",
        "  .Adding and Subtracting Matrices in Python\n",
        "  . Matrix Multiplication in NumPy\n",
        "   . Ways to add row/columns in numpy array\n",
        "   . Get the eigen values of a matrix\n",
        "   . How to count the frequency of unique values in NumPy array?\n",
        "    . How to inverse a matrix using NumPy . How to Calculate the determinant of a matrix using NumPy? . Convert covariance matrix to correlation matrix using Python\n"
      ],
      "metadata": {
        "id": "JxHJFOnzMX81"
      }
    },
    {
      "cell_type": "code",
      "source": [
        "matrix = np.array([[1, 2, 3], [4, 5, 6], [7, 8, 9]])\n",
        "\n",
        "max_value = np.max(matrix)\n",
        "print(\"Max value: \",max_value)\n",
        "\n",
        "min_value = np.min(matrix)\n",
        "print(\"Min value: \",min_value)\n",
        "\n",
        "num_rows, num_cols = np.shape(matrix)\n",
        "print(\"Number of rows:\", num_rows)\n",
        "print(\"Number of columns:\", num_cols)\n",
        "\n",
        "#\n",
        "matrix1 = np.array([[1, 2], [3, 4]])\n",
        "matrix2 = np.array([[5, 6], [7, 8]])\n",
        "\n",
        "add_result = matrix1 + matrix2\n",
        "sub_result = matrix1 - matrix2\n",
        "\n",
        "print(\"Matrix Addition:\")\n",
        "print(add_result)\n",
        "\n",
        "print(\"Matrix Subtraction:\")\n",
        "print(sub_result)\n",
        "\n",
        "matrix1 = np.array([[1, 2], [3, 4]])\n",
        "matrix2 = np.array([[5, 6], [7, 8]])\n",
        "\n",
        "print(\"Matrix Mul:\")\n",
        "mul_result = np.dot(matrix1, matrix2)\n",
        "print(mul_result)\n",
        "\n",
        "\n",
        "array = np.array([[1, 2, 3], [4, 5, 6]])\n",
        "\n",
        "new_row = np.array([7, 8, 9])\n",
        "new_col = np.array([[10], [11]])\n",
        "\n",
        "array_with_row = np.vstack((array, new_row))\n",
        "array_with_col = np.hstack((array, new_col))\n",
        "\n",
        "print(\"Array with new row:\")\n",
        "print(array_with_row)\n",
        "\n",
        "print(\"Array with new column:\")\n",
        "print(array_with_col)"
      ],
      "metadata": {
        "colab": {
          "base_uri": "https://localhost:8080/"
        },
        "id": "4KFGTNw0zDiS",
        "outputId": "295d583b-c14a-42cf-95c0-6dd69c33cf6f"
      },
      "execution_count": 3,
      "outputs": [
        {
          "output_type": "stream",
          "name": "stdout",
          "text": [
            "Max value:  9\n",
            "Min value:  1\n",
            "Number of rows: 3\n",
            "Number of columns: 3\n",
            "Matrix Addition:\n",
            "[[ 6  8]\n",
            " [10 12]]\n",
            "Matrix Subtraction:\n",
            "[[-4 -4]\n",
            " [-4 -4]]\n",
            "Matrix Mul:\n",
            "[[19 22]\n",
            " [43 50]]\n",
            "Array with new row:\n",
            "[[1 2 3]\n",
            " [4 5 6]\n",
            " [7 8 9]]\n",
            "Array with new column:\n",
            "[[ 1  2  3 10]\n",
            " [ 4  5  6 11]]\n"
          ]
        }
      ]
    },
    {
      "cell_type": "code",
      "source": [
        "import numpy as np\n",
        "\n",
        "matrix = np.array([[1, 2], [3, 4]])\n",
        "\n",
        "eigenvalues = np.linalg.eigvals(matrix)\n",
        "print(\"Eigenvalues:\")\n",
        "print(eigenvalues)\n"
      ],
      "metadata": {
        "colab": {
          "base_uri": "https://localhost:8080/"
        },
        "id": "F6j0xNfPOMCw",
        "outputId": "f3cfeb58-3857-4be7-cba6-92a005f24158"
      },
      "execution_count": null,
      "outputs": [
        {
          "output_type": "stream",
          "name": "stdout",
          "text": [
            "Eigenvalues:\n",
            "[-0.37228132  5.37228132]\n"
          ]
        }
      ]
    },
    {
      "cell_type": "code",
      "source": [
        "import numpy as np\n",
        "\n",
        "array = np.array([1, 2, 1, 3, 2, 1, 2, 3, 3])\n",
        "\n",
        "unique_values, value_counts = np.unique(array, return_counts=True)\n",
        "frequency = np.asarray((unique_values, value_counts)).T\n",
        "print(\"Frequency of unique values:\")\n",
        "print(frequency)\n"
      ],
      "metadata": {
        "colab": {
          "base_uri": "https://localhost:8080/"
        },
        "id": "Ydx__nhUOYZr",
        "outputId": "623519e5-880b-418f-e0c5-f92aeb05c8f5"
      },
      "execution_count": null,
      "outputs": [
        {
          "output_type": "stream",
          "name": "stdout",
          "text": [
            "Frequency of unique values:\n",
            "[[1 3]\n",
            " [2 3]\n",
            " [3 3]]\n"
          ]
        }
      ]
    },
    {
      "cell_type": "code",
      "source": [
        "import numpy as np\n",
        "\n",
        "matrix = np.array([[1, 2], [3, 4]])\n",
        "\n",
        "inverse_matrix = np.linalg.inv(matrix)\n",
        "print(\"Inverse matrix:\")\n",
        "print(inverse_matrix)"
      ],
      "metadata": {
        "colab": {
          "base_uri": "https://localhost:8080/"
        },
        "id": "ZafWVc9OOh1s",
        "outputId": "512d481d-553f-4f86-bb77-6da94076f5fd"
      },
      "execution_count": null,
      "outputs": [
        {
          "output_type": "stream",
          "name": "stdout",
          "text": [
            "Inverse matrix:\n",
            "[[-2.   1. ]\n",
            " [ 1.5 -0.5]]\n"
          ]
        }
      ]
    },
    {
      "cell_type": "code",
      "source": [
        "import numpy as np\n",
        "\n",
        "# Create a sample matrix\n",
        "matrix = np.array([[1, 2], [3, 4]])\n",
        "\n",
        "# Calculate the determinant\n",
        "determinant = np.linalg.det(matrix)\n",
        "\n",
        "print(\"Determinant:\", determinant)\n"
      ],
      "metadata": {
        "colab": {
          "base_uri": "https://localhost:8080/"
        },
        "id": "0TaW5n8AQcaG",
        "outputId": "982f8e90-1ad7-479b-b625-20a2ff71dac7"
      },
      "execution_count": null,
      "outputs": [
        {
          "output_type": "stream",
          "name": "stdout",
          "text": [
            "Determinant: -2.0000000000000004\n"
          ]
        }
      ]
    },
    {
      "cell_type": "code",
      "source": [
        "import numpy as np\n",
        "\n",
        "# Create a sample covariance matrix\n",
        "covariance_matrix = np.array([[1, 2], [2, 9]])\n",
        "\n",
        "# Calculate the correlation matrix\n",
        "correlation_matrix = np.corrcoef(covariance_matrix, rowvar=False)\n",
        "\n",
        "print(\"Correlation matrix:\")\n",
        "print(correlation_matrix)\n"
      ],
      "metadata": {
        "colab": {
          "base_uri": "https://localhost:8080/"
        },
        "id": "Q67zahpeTKih",
        "outputId": "3dff2a5f-d133-4a7b-cd97-7f7d99deccfb"
      },
      "execution_count": null,
      "outputs": [
        {
          "output_type": "stream",
          "name": "stdout",
          "text": [
            "Correlation matrix:\n",
            "[[1. 1.]\n",
            " [1. 1.]]\n"
          ]
        }
      ]
    },
    {
      "cell_type": "markdown",
      "source": [
        "\n",
        "# 3. NumPy Indexing Exercises\n",
        " ▪ Replace NumPy array elements that doesn’t satisfy the given condition ▪\n",
        "Return the indices of elements where the given condition is satisfied ▪\n",
        "Replace negative value with zero in numpy array ▪ Replace NaN values with average of columns ▪ How to get values of an NumPy array at certain index positions? ▪\n",
        "Find indices of elements equal to zero in a NumPy array ▪ How to access different rows of a multidimensional NumPy array? ▪ How to\n",
        "Remove columns in Numpy array that contains non-numeric values? ▪ Get row\n",
        "numbers of NumPy array having element larger than X"
      ],
      "metadata": {
        "id": "UGdZw9c9Tn9-"
      }
    },
    {
      "cell_type": "code",
      "source": [
        "import numpy as np\n",
        "\n",
        "# Create a sample NumPy array\n",
        "arr = np.array([-2, -1, 0, 1, 2, 3])\n",
        "\n",
        "# Replace elements that do not satisfy the condition (e.g., elements less than 0) with a different value (e.g., -999)\n",
        "arr[arr < 0] = -999\n",
        "\n",
        "# Get the indices where the condition is satisfied (e.g., elements greater than or equal to 0)\n",
        "indices = np.where(arr >= 0)\n",
        "\n",
        "# Replace negative values with zero\n",
        "arr[arr < 0] = 0\n",
        "\n",
        "print(arr)\n",
        "print(indices)\n"
      ],
      "metadata": {
        "colab": {
          "base_uri": "https://localhost:8080/"
        },
        "id": "2d0NjcegTrdh",
        "outputId": "5297bb52-352d-4cbe-cf0d-0b1bd165f0df"
      },
      "execution_count": null,
      "outputs": [
        {
          "output_type": "stream",
          "name": "stdout",
          "text": [
            "[0 0 0 1 2 3]\n",
            "(array([2, 3, 4, 5]),)\n"
          ]
        }
      ]
    },
    {
      "cell_type": "code",
      "source": [
        "import numpy as np\n",
        "\n",
        "# Initialising numpy array\n",
        "ini_array = np.array([[1.3, 2.5, 3.6, np.nan],\n",
        "                      [2.6, 3.3, np.nan, 5.5],\n",
        "                      [2.1, 3.2, 5.4, 6.5]])\n",
        "\n",
        "# printing initial array\n",
        "print (\"initial array\", ini_array)\n",
        "\n",
        "# column mean\n",
        "col_mean = np.nanmean(ini_array, axis = 0)\n",
        "\n",
        "# printing column mean\n",
        "print (\"columns mean\", str(col_mean))\n",
        "\n",
        "# find indices where nan value is present\n",
        "inds = np.where(np.isnan(ini_array))\n",
        "\n",
        "# replace inds with avg of column\n",
        "ini_array[inds] = np.take(col_mean, inds[1])\n",
        "\n",
        "# printing final array\n",
        "print (\"final array\", ini_array)"
      ],
      "metadata": {
        "colab": {
          "base_uri": "https://localhost:8080/"
        },
        "id": "au2Ej7dnZ8Ks",
        "outputId": "39451aa9-450a-4f0e-fa38-fa1a6f768ffa"
      },
      "execution_count": null,
      "outputs": [
        {
          "output_type": "stream",
          "name": "stdout",
          "text": [
            "initial array [[1.3 2.5 3.6 nan]\n",
            " [2.6 3.3 nan 5.5]\n",
            " [2.1 3.2 5.4 6.5]]\n",
            "columns mean [2.  3.  4.5 6. ]\n",
            "final array [[1.3 2.5 3.6 6. ]\n",
            " [2.6 3.3 4.5 5.5]\n",
            " [2.1 3.2 5.4 6.5]]\n"
          ]
        }
      ]
    },
    {
      "cell_type": "code",
      "source": [
        "import numpy as np\n",
        "\n",
        "arr = np.array([1, 2, 3, 4, 5])\n",
        "indices = [1, 3]  # Example index positions\n",
        "\n",
        "values = arr[indices]\n",
        "print(values)\n"
      ],
      "metadata": {
        "colab": {
          "base_uri": "https://localhost:8080/"
        },
        "id": "4znlNaqWa3UO",
        "outputId": "7c5c7ec5-83c8-4f2a-ce31-ec25d729ccdb"
      },
      "execution_count": null,
      "outputs": [
        {
          "output_type": "stream",
          "name": "stdout",
          "text": [
            "[2 4]\n"
          ]
        }
      ]
    },
    {
      "cell_type": "code",
      "source": [
        "import numpy as np\n",
        "\n",
        "arr = np.array([1, 0, 3, 0, 5])\n",
        "\n",
        "zero_indices = np.where(arr == 0)[0]\n",
        "print(zero_indices)\n"
      ],
      "metadata": {
        "colab": {
          "base_uri": "https://localhost:8080/"
        },
        "id": "x3yPJjUGb985",
        "outputId": "a9c86e3d-10b2-40ee-b763-2c7d69566695"
      },
      "execution_count": null,
      "outputs": [
        {
          "output_type": "stream",
          "name": "stdout",
          "text": [
            "[1 3]\n"
          ]
        }
      ]
    },
    {
      "cell_type": "code",
      "source": [
        "import numpy as np\n",
        "\n",
        "arr = np.array([[1, 2, 3], [4, 5, 6], [7, 8, 9]])\n",
        "\n",
        "# Access the first row\n",
        "first_row = arr[0]\n",
        "print(first_row)\n",
        "\n",
        "# Access the second row\n",
        "second_row = arr[1]\n",
        "print(second_row)\n"
      ],
      "metadata": {
        "colab": {
          "base_uri": "https://localhost:8080/"
        },
        "id": "lygd_lzWctWf",
        "outputId": "9d8cb3c1-c403-4f07-94fb-945607d99075"
      },
      "execution_count": null,
      "outputs": [
        {
          "output_type": "stream",
          "name": "stdout",
          "text": [
            "[1 2 3]\n",
            "[4 5 6]\n"
          ]
        }
      ]
    },
    {
      "cell_type": "code",
      "source": [
        "# Importing Numpy module\n",
        "import numpy as np\n",
        "\n",
        "# Creating 2X3 2-D Numpy array\n",
        "n_arr = np.array([[10.5, 22.5, np.nan],\n",
        "                  [41, 52.5, np.nan]])\n",
        "\n",
        "print(\"Given array:\")\n",
        "print(n_arr)\n",
        "\n",
        "print(\"\\nRemove all columns containing non-numeric elements \")\n",
        "print(n_arr[:, ~np.isnan(n_arr).any(axis=0)])"
      ],
      "metadata": {
        "colab": {
          "base_uri": "https://localhost:8080/"
        },
        "id": "8Ioa_nwAi4bv",
        "outputId": "f7c43e0e-2adf-4041-98cf-2916bc0d1a5f"
      },
      "execution_count": null,
      "outputs": [
        {
          "output_type": "stream",
          "name": "stdout",
          "text": [
            "Given array:\n",
            "[[10.5 22.5  nan]\n",
            " [41.  52.5  nan]]\n",
            "\n",
            "Remove all columns containing non-numeric elements \n",
            "[[10.5 22.5]\n",
            " [41.  52.5]]\n"
          ]
        }
      ]
    },
    {
      "cell_type": "code",
      "source": [
        "import numpy as np\n",
        "\n",
        "arr = np.array([1, 5, 3, 7, 9, 2])\n",
        "X = 4\n",
        "\n",
        "row_numbers = np.where(arr > X)[0]\n",
        "print(row_numbers)\n"
      ],
      "metadata": {
        "colab": {
          "base_uri": "https://localhost:8080/"
        },
        "id": "QObs_wBTi8Ym",
        "outputId": "9181775f-ca23-4b80-fc90-f34cbc3379ed"
      },
      "execution_count": null,
      "outputs": [
        {
          "output_type": "stream",
          "name": "stdout",
          "text": [
            "[1 3 4]\n"
          ]
        }
      ]
    },
    {
      "cell_type": "markdown",
      "source": [
        "# 4. NumPy Sorting and Searching Exercises\n",
        "▪ How to get the indices of the sorted array using NumPy in Python? ▪\n",
        "Finding the k smallest values of a NumPy array ▪ How to get the n-largest values of an array using NumPy? ▪ Sort the values in a matrix ▪ Filter out integers from float numpy array ▪ Find the indices into a sorted array"
      ],
      "metadata": {
        "id": "SgzDOPK3PVbL"
      }
    },
    {
      "cell_type": "code",
      "source": [
        "import numpy as np\n",
        "\n",
        "arr = np.array([5, 2, 8, 1, 6])\n",
        "sorted_indices = np.argsort(arr)\n",
        "\n",
        "print(sorted_indices)"
      ],
      "metadata": {
        "colab": {
          "base_uri": "https://localhost:8080/"
        },
        "id": "nZoTlXzWj48y",
        "outputId": "57e07db8-83de-48d8-dac5-0cf50d4e5a1c"
      },
      "execution_count": null,
      "outputs": [
        {
          "output_type": "stream",
          "name": "stdout",
          "text": [
            "[3 1 0 4 2]\n"
          ]
        }
      ]
    },
    {
      "cell_type": "code",
      "source": [
        "import numpy as np\n",
        "\n",
        "arr = np.array([5, 2, 8, 1, 6])\n",
        "k = 3\n",
        "\n",
        "k_smallest = np.partition(arr, k)[:k]\n",
        "\n",
        "print(k_smallest)\n"
      ],
      "metadata": {
        "colab": {
          "base_uri": "https://localhost:8080/"
        },
        "id": "Xug6OK8BlZTm",
        "outputId": "9bbc898e-769a-4471-ddeb-8ca2ffb86fba"
      },
      "execution_count": null,
      "outputs": [
        {
          "output_type": "stream",
          "name": "stdout",
          "text": [
            "[1 5 2]\n"
          ]
        }
      ]
    },
    {
      "cell_type": "code",
      "source": [
        "import numpy as np\n",
        "\n",
        "arr = np.array([5, 3, 1, 4, 2])\n",
        "n = 2\n",
        "largest_values = np.partition(arr, -n)[-n:]\n",
        "print(largest_values)"
      ],
      "metadata": {
        "colab": {
          "base_uri": "https://localhost:8080/"
        },
        "id": "NDnXoT88leI3",
        "outputId": "bfb39f91-f05f-48b2-826c-34d629b55014"
      },
      "execution_count": null,
      "outputs": [
        {
          "output_type": "stream",
          "name": "stdout",
          "text": [
            "[4 5]\n"
          ]
        }
      ]
    },
    {
      "cell_type": "code",
      "source": [
        "import numpy as np\n",
        "\n",
        "matrix = np.array([[3, 2, 1], [6, 5, 4]])\n",
        "sorted_matrix = np.sort(matrix)\n",
        "print(sorted_matrix)"
      ],
      "metadata": {
        "colab": {
          "base_uri": "https://localhost:8080/"
        },
        "id": "xaPgpFvDoWMg",
        "outputId": "a93443bf-6f59-4019-b45b-6a318355985d"
      },
      "execution_count": null,
      "outputs": [
        {
          "output_type": "stream",
          "name": "stdout",
          "text": [
            "[[1 2 3]\n",
            " [4 5 6]]\n"
          ]
        }
      ]
    },
    {
      "cell_type": "code",
      "source": [
        "# Import numpy\n",
        "import numpy as np\n",
        "\n",
        "# Creating an array\n",
        "arr = np.array([0.0, 0.01, 1.0, 2.0, 2.001, 2.002])\n",
        "\n",
        "# Display array\n",
        "print(\"Original array:\\n\",arr,\"\\n\")\n",
        "\n",
        "# Filtering out integer values\n",
        "res = arr[arr == arr.astype(int)]\n",
        "\n",
        "# Display result\n",
        "print(\"Result:\\n\",res,\"\\n\")"
      ],
      "metadata": {
        "colab": {
          "base_uri": "https://localhost:8080/"
        },
        "id": "SVY0OpORrpXI",
        "outputId": "ba72276d-352c-456e-d39b-199771436600"
      },
      "execution_count": null,
      "outputs": [
        {
          "output_type": "stream",
          "name": "stdout",
          "text": [
            "Original array:\n",
            " [0.    0.01  1.    2.    2.001 2.002] \n",
            "\n",
            "Result:\n",
            " [0. 1. 2.] \n",
            "\n"
          ]
        }
      ]
    },
    {
      "cell_type": "code",
      "source": [
        "# Original array\n",
        "array = np.array([10, 52, 62, 16, 16, 54, 453])\n",
        "print(array)\n",
        "\n",
        "# Indices of the sorted elements of a\n",
        "# given array\n",
        "indices = np.argsort(array)\n",
        "print(indices)"
      ],
      "metadata": {
        "colab": {
          "base_uri": "https://localhost:8080/"
        },
        "id": "jlNOuBJWtK2g",
        "outputId": "ad0b0954-3960-4c51-b90f-08be4983e916"
      },
      "execution_count": null,
      "outputs": [
        {
          "output_type": "stream",
          "name": "stdout",
          "text": [
            "[ 10  52  62  16  16  54 453]\n",
            "[0 3 4 1 5 2 6]\n"
          ]
        }
      ]
    },
    {
      "cell_type": "markdown",
      "source": [
        "\n",
        "5**. NumPy Random Exercises**\n",
        " ▪ Create a Numpy array with random values ▪ Generate Random Numbers From The Uniform Distribution using NumPy ▪\n",
        "Return a Matrix of random values from a uniform distribution ▪ Return a Matrix of random values from a Gaussian distribution"
      ],
      "metadata": {
        "id": "9JpkIb9X5CDE"
      }
    },
    {
      "cell_type": "code",
      "source": [
        "import numpy as np\n",
        "\n",
        "# Generate a 1D array of 5 random values\n",
        "arr = np.random.rand(5)\n",
        "print(arr)"
      ],
      "metadata": {
        "colab": {
          "base_uri": "https://localhost:8080/"
        },
        "id": "LgNVnAo95Gbu",
        "outputId": "69b6875f-7f53-4a92-fc23-d5e46db12791"
      },
      "execution_count": null,
      "outputs": [
        {
          "output_type": "stream",
          "name": "stdout",
          "text": [
            "[0.73240983 0.09336472 0.10080494 0.95374495 0.47392232]\n"
          ]
        }
      ]
    },
    {
      "cell_type": "code",
      "source": [
        "import numpy as np\n",
        "\n",
        "# Generate a random number between 0 and 1\n",
        "rand_num = np.random.random()\n",
        "print(rand_num)\n",
        "\n",
        "# Generate a 1D array of 5 random numbers between 0 and 1\n",
        "rand_array = np.random.random(5)\n",
        "print(rand_array)\n",
        "\n",
        "# Generate a 2D array of shape (3, 3) with random numbers between 0 and 1\n",
        "rand_matrix = np.random.random((3, 3))\n",
        "print(rand_matrix)"
      ],
      "metadata": {
        "colab": {
          "base_uri": "https://localhost:8080/"
        },
        "id": "LcTJYMQY5oYv",
        "outputId": "fdf43228-621d-45ca-d00d-d094edd8f927"
      },
      "execution_count": null,
      "outputs": [
        {
          "output_type": "stream",
          "name": "stdout",
          "text": [
            "0.9582963617973587\n",
            "[0.44900017 0.39324081 0.64804162 0.60984872 0.9939506 ]\n",
            "[[0.40014959 0.11032297 0.94985635]\n",
            " [0.25389481 0.65041842 0.17049363]\n",
            " [0.74247885 0.9215022  0.91816093]]\n"
          ]
        }
      ]
    },
    {
      "cell_type": "code",
      "source": [
        "import numpy as np\n",
        "\n",
        "# Generate a 2D array of shape (3, 3) with random values between 0 and 10\n",
        "rand_uniform_matrix = np.random.uniform(0, 10, (3, 3))\n",
        "print(rand_uniform_matrix)"
      ],
      "metadata": {
        "colab": {
          "base_uri": "https://localhost:8080/"
        },
        "id": "x3i6mwwZ5qSr",
        "outputId": "f0677863-ceff-4c35-ea1b-405b48884b99"
      },
      "execution_count": null,
      "outputs": [
        {
          "output_type": "stream",
          "name": "stdout",
          "text": [
            "[[8.89121329 6.29917135 3.5180092 ]\n",
            " [3.38369538 1.31049017 6.71960939]\n",
            " [6.98313731 5.92036669 4.38794549]]\n"
          ]
        }
      ]
    },
    {
      "cell_type": "code",
      "source": [
        "import numpy as np\n",
        "\n",
        "# Generate a 1D array of 5 random values from a Gaussian distribution with mean 0 and standard deviation 1\n",
        "rand_gaussian_array = np.random.randn(5)\n",
        "print(rand_gaussian_array)\n",
        "\n",
        "# Generate a 2D array of shape (3, 3) with random values from a Gaussian distribution with mean 0 and standard deviation 1\n",
        "rand_gaussian_matrix = np.random.randn(3, 3)\n",
        "print(rand_gaussian_matrix)"
      ],
      "metadata": {
        "colab": {
          "base_uri": "https://localhost:8080/"
        },
        "id": "RDu0XKAR57W9",
        "outputId": "b45df12d-2b0f-45b6-ea25-f9077e65ad89"
      },
      "execution_count": null,
      "outputs": [
        {
          "output_type": "stream",
          "name": "stdout",
          "text": [
            "[ 0.35652288 -0.10833438  1.02650094 -0.34564073  0.79158841]\n",
            "[[ 1.3174131   0.17780841 -0.31387114]\n",
            " [-1.60806048 -1.8553702  -0.22147203]\n",
            " [ 0.76529695 -2.10649054  2.01851472]]\n"
          ]
        }
      ]
    },
    {
      "cell_type": "markdown",
      "source": [
        "\n",
        "# 6. Pandas Dataframe Exercises\n",
        " ▪ Make a Pandas DataFrame with two-dimensional list ▪ Creating DataFrame from dict of narray/lists ▪ Creating Pandas dataframe using list of lists ▪ Creating a Pandas dataframe using list of tuples ▪ Create a Pandas DataFrame from List of Dicts ▪ Creating a dataframe from Pandas series ▪ Reindexing in Pandas DataFrame ▪ Reset Index in Pandas Dataframe ▪ Change column names and row indexes in Pandas DataFrame"
      ],
      "metadata": {
        "id": "i7OHC-KD6RyX"
      }
    },
    {
      "cell_type": "code",
      "source": [
        "import pandas as pd\n",
        "\n",
        "data = [['Alice', 25, 'Engineer'],\n",
        "        ['Bob', 30, 'Manager'],\n",
        "        ['Charlie', 35, 'Analyst']]\n",
        "\n",
        "df = pd.DataFrame(data, columns=['Name', 'Age', 'Occupation'])\n",
        "print(df)\n"
      ],
      "metadata": {
        "colab": {
          "base_uri": "https://localhost:8080/"
        },
        "id": "p8pYZ2Eu6WSJ",
        "outputId": "88cf6989-efc9-483d-e21a-847cda3f3861"
      },
      "execution_count": null,
      "outputs": [
        {
          "output_type": "stream",
          "name": "stdout",
          "text": [
            "      Name  Age Occupation\n",
            "0    Alice   25   Engineer\n",
            "1      Bob   30    Manager\n",
            "2  Charlie   35    Analyst\n"
          ]
        }
      ]
    },
    {
      "cell_type": "code",
      "source": [
        "import pandas as pd\n",
        "\n",
        "# initialise data of lists.\n",
        "data = {'Category':['Array', 'Stack', 'Queue'],\n",
        "        'Marks':[20, 21, 19]}\n",
        "\n",
        "# Create DataFrame\n",
        "df = pd.DataFrame(data)\n",
        "\n",
        "# Print the output.\n",
        "print(df )"
      ],
      "metadata": {
        "colab": {
          "base_uri": "https://localhost:8080/"
        },
        "id": "yThGylPK9qoB",
        "outputId": "f5fdb7fe-24e4-4c98-812e-e7ee4b933a55"
      },
      "execution_count": null,
      "outputs": [
        {
          "output_type": "stream",
          "name": "stdout",
          "text": [
            "  Category  Marks\n",
            "0    Array     20\n",
            "1    Stack     21\n",
            "2    Queue     19\n"
          ]
        }
      ]
    },
    {
      "cell_type": "code",
      "source": [
        "import pandas as pd\n",
        "\n",
        "data = [['John', 25], ['Alice', 30], ['Bob', 35]]\n",
        "df = pd.DataFrame(data, columns=['Name', 'Age'])\n",
        "print(df)\n"
      ],
      "metadata": {
        "colab": {
          "base_uri": "https://localhost:8080/"
        },
        "id": "igb49FAD9uj_",
        "outputId": "366d0c73-c50b-414c-95e0-d6f9af90fffb"
      },
      "execution_count": null,
      "outputs": [
        {
          "output_type": "stream",
          "name": "stdout",
          "text": [
            "    Name  Age\n",
            "0   John   25\n",
            "1  Alice   30\n",
            "2    Bob   35\n"
          ]
        }
      ]
    },
    {
      "cell_type": "code",
      "source": [
        "import pandas as pd\n",
        "\n",
        "data = [('John', 25), ('Alice', 30), ('Bob', 35)]\n",
        "df = pd.DataFrame(data, columns=['Name', 'Age'])\n",
        "print(df)\n"
      ],
      "metadata": {
        "colab": {
          "base_uri": "https://localhost:8080/"
        },
        "id": "4KhBw4uo-a6h",
        "outputId": "7245a730-f1ee-45a2-afc0-c4a0e1746acf"
      },
      "execution_count": null,
      "outputs": [
        {
          "output_type": "stream",
          "name": "stdout",
          "text": [
            "    Name  Age\n",
            "0   John   25\n",
            "1  Alice   30\n",
            "2    Bob   35\n"
          ]
        }
      ]
    },
    {
      "cell_type": "code",
      "source": [
        "import pandas as pd\n",
        "\n",
        "data = [{'Name': 'John', 'Age': 25}, {'Name': 'Alice', 'Age': 30}, {'Name': 'Bob', 'Age': 35}]\n",
        "df = pd.DataFrame(data)\n",
        "print(df)\n"
      ],
      "metadata": {
        "colab": {
          "base_uri": "https://localhost:8080/"
        },
        "id": "dpvFOcft-cYG",
        "outputId": "10b2d92a-dcd6-4d7e-8138-4ab92697a9fd"
      },
      "execution_count": null,
      "outputs": [
        {
          "output_type": "stream",
          "name": "stdout",
          "text": [
            "    Name  Age\n",
            "0   John   25\n",
            "1  Alice   30\n",
            "2    Bob   35\n"
          ]
        }
      ]
    },
    {
      "cell_type": "code",
      "source": [
        "import pandas as pd\n",
        "\n",
        "data = [{'Name': 'John', 'Age': 25}, {'Name': 'Alice', 'Age': 30}, {'Name': 'Bob', 'Age': 35}]\n",
        "df = pd.DataFrame(data)\n",
        "print(df)\n"
      ],
      "metadata": {
        "colab": {
          "base_uri": "https://localhost:8080/"
        },
        "id": "ti5pHDWo-pvb",
        "outputId": "0c25af66-311c-4c7c-eeef-331315a4bd02"
      },
      "execution_count": null,
      "outputs": [
        {
          "output_type": "stream",
          "name": "stdout",
          "text": [
            "    Name  Age\n",
            "0   John   25\n",
            "1  Alice   30\n",
            "2    Bob   35\n"
          ]
        }
      ]
    },
    {
      "cell_type": "code",
      "source": [
        "import pandas as pd\n",
        "\n",
        "series = pd.Series([25, 30, 35], name='Age')\n",
        "df = pd.DataFrame(series)\n",
        "print(df)\n"
      ],
      "metadata": {
        "colab": {
          "base_uri": "https://localhost:8080/"
        },
        "id": "QHEPeHSJ_LRM",
        "outputId": "05b0b8ac-ef69-42c7-b99f-14e5b88dc672"
      },
      "execution_count": null,
      "outputs": [
        {
          "output_type": "stream",
          "name": "stdout",
          "text": [
            "   Age\n",
            "0   25\n",
            "1   30\n",
            "2   35\n"
          ]
        }
      ]
    },
    {
      "cell_type": "code",
      "source": [
        "import pandas as pd\n",
        "\n",
        "data = {'Name': ['John', 'Alice', 'Bob'], 'Age': [25, 30, 35]}\n",
        "df = pd.DataFrame(data)\n",
        "df = df.reindex([2, 0, 1])  # Reindexing rows\n",
        "print(df)\n"
      ],
      "metadata": {
        "colab": {
          "base_uri": "https://localhost:8080/"
        },
        "id": "gEEW0VBM_Ndx",
        "outputId": "697e8c34-8324-4db5-8f97-1a2358d3b494"
      },
      "execution_count": null,
      "outputs": [
        {
          "output_type": "stream",
          "name": "stdout",
          "text": [
            "    Name  Age\n",
            "2    Bob   35\n",
            "0   John   25\n",
            "1  Alice   30\n"
          ]
        }
      ]
    },
    {
      "cell_type": "code",
      "source": [
        "import pandas as pd\n",
        "\n",
        "data = {'Name': ['John', 'Alice', 'Bob'], 'Age': [25, 30, 35]}\n",
        "df = pd.DataFrame(data)\n",
        "df = df.reset_index(drop=True)  # Resetting index\n",
        "print(df)\n"
      ],
      "metadata": {
        "colab": {
          "base_uri": "https://localhost:8080/"
        },
        "id": "yoehh2eQ_MkW",
        "outputId": "e7dea3ef-f80e-4a41-c003-75016679c4d2"
      },
      "execution_count": null,
      "outputs": [
        {
          "output_type": "stream",
          "name": "stdout",
          "text": [
            "    Name  Age\n",
            "0   John   25\n",
            "1  Alice   30\n",
            "2    Bob   35\n"
          ]
        }
      ]
    },
    {
      "cell_type": "code",
      "source": [
        "import pandas as pd\n",
        "\n",
        "data = {'Name': ['John', 'Alice', 'Bob'], 'Age': [25, 30, 35]}\n",
        "df = pd.DataFrame(data)\n",
        "df.columns = ['First Name', 'Years']  # Changing column names\n",
        "df.index = ['A', 'B', 'C']  # Changing row indexes\n",
        "print(df)\n"
      ],
      "metadata": {
        "colab": {
          "base_uri": "https://localhost:8080/"
        },
        "id": "7MkHpa4N_lb9",
        "outputId": "b6012b83-13dd-47c4-ee89-8a4472554b92"
      },
      "execution_count": null,
      "outputs": [
        {
          "output_type": "stream",
          "name": "stdout",
          "text": [
            "  First Name  Years\n",
            "A       John     25\n",
            "B      Alice     30\n",
            "C        Bob     35\n"
          ]
        }
      ]
    },
    {
      "cell_type": "markdown",
      "source": [
        "\n",
        "**7. Pandas Dataframe Row Exerciseses **\n",
        " ▪ How to iterate over rows in Pandas Dataframe ▪ Different ways to iterate over rows in Pandas Dataframe ▪ Selecting rows in pandas DataFrame based on conditions ▪ Select any row from a Dataframe using iloc[] and iat[] in Pandas ▪ Limited rows selection with given column in Pandas | Python ▪ Drop rows from the dataframe based on certain condition applied on a column ▪\n",
        "Insert row at given position in Pandas Dataframe ▪ Create a list from rows in Pandas dataframe ▪ Ranking Rows of Pandas DataFrame ▪ Sorting rows in pandas DataFrame ▪ Select row with maximum and minimum value in Pandas dataframe ▪ Get all rows in a Pandas DataFrame containing given substring ▪ Convert a column to row name/index in Pandas ▪ How to randomly select rows from Pandas DataFrame"
      ],
      "metadata": {
        "id": "crwhdGbm_3Fa"
      }
    },
    {
      "cell_type": "code",
      "source": [
        "import pandas as pd\n",
        "\n",
        "df = pd.DataFrame({'Name': ['Alice', 'Bob', 'Charlie'],\n",
        "                   'Age': [25, 30, 35],\n",
        "                   'Occupation': ['Engineer', 'Manager', 'Analyst']})\n",
        "\n",
        "# Using iterrows() to iterate over rows\n",
        "for index, row in df.iterrows():\n",
        "    print(row['Name'], row['Age'], row['Occupation'])\n",
        "\n",
        "# Using itertuples() to iterate over rows as namedtuples\n",
        "for row in df.itertuples():\n",
        "    print(row.Name, row.Age, row.Occupation)\n",
        "\n",
        "# Using index and iloc to access rows\n",
        "for i in range(len(df)):\n",
        "    print(df.iloc[i]['Name'], df.iloc[i]['Age'], df.iloc[i]['Occupation'])"
      ],
      "metadata": {
        "colab": {
          "base_uri": "https://localhost:8080/"
        },
        "id": "-mWfTfXiABIU",
        "outputId": "35301915-da84-4049-8090-c7b3e48020d2"
      },
      "execution_count": null,
      "outputs": [
        {
          "output_type": "stream",
          "name": "stdout",
          "text": [
            "Alice 25 Engineer\n",
            "Bob 30 Manager\n",
            "Charlie 35 Analyst\n",
            "Alice 25 Engineer\n",
            "Bob 30 Manager\n",
            "Charlie 35 Analyst\n",
            "Alice 25 Engineer\n",
            "Bob 30 Manager\n",
            "Charlie 35 Analyst\n"
          ]
        }
      ]
    },
    {
      "cell_type": "code",
      "source": [
        "for row in df.values:\n",
        "    print(row[0], row[1], row[2])\n"
      ],
      "metadata": {
        "colab": {
          "base_uri": "https://localhost:8080/"
        },
        "id": "s76LJ7t7CG-e",
        "outputId": "f316df0a-892e-494d-be29-c2b73947b867"
      },
      "execution_count": null,
      "outputs": [
        {
          "output_type": "stream",
          "name": "stdout",
          "text": [
            "Alice 25 Engineer\n",
            "Bob 30 Manager\n",
            "Charlie 35 Analyst\n"
          ]
        }
      ]
    },
    {
      "cell_type": "code",
      "source": [
        "# First, import pandas\n",
        "import pandas as pnd\n",
        "record_1 = {\n",
        "\n",
        " 'Name_1': ['Anuj', 'Ashu', 'Yashi', 'Mark', 'Joshua', 'John', 'Ray', 'Lilly', 'Rose', 'Rachel' ],\n",
        " 'Age_1': [23, 24, 21, 19, 21, 24, 25, 22, 23, 22],\n",
        " 'Subjects_1': ['DBMS', 'ADS', 'ASPM', 'BCM', 'MFCS', 'ADS', 'ASPM', 'TOC', 'Data Mining', 'OOPS'],\n",
        " 'Percentage_1': [88, 62, 85, 71, 55, 78, 70, 66, 71, 89] }\n",
        "\n",
        "# Now, we are creating a dataframe\n",
        "Data_Frame = pnd.DataFrame(record_1, columns = ['Name_1', 'Age_1', 'Subject_1', 'Percentage_1'])\n",
        "\n",
        "print(\"Given DataFrame: \\n\", Data_Frame)\n",
        "\n",
        "# Then we will select rows based on condition\n",
        "result_DataFrame = Data_Frame[Data_Frame['Percentage_1'] > 70]\n",
        "\n",
        "print('\\nFollowing is the Result DataFrame: \\n', result_DataFrame)"
      ],
      "metadata": {
        "colab": {
          "base_uri": "https://localhost:8080/"
        },
        "id": "2PhR89j_EJe9",
        "outputId": "4f08404d-982b-4ec0-bbe9-caccc709a415"
      },
      "execution_count": null,
      "outputs": [
        {
          "output_type": "stream",
          "name": "stdout",
          "text": [
            "Given DataFrame: \n",
            "    Name_1  Age_1 Subject_1  Percentage_1\n",
            "0    Anuj     23       NaN            88\n",
            "1    Ashu     24       NaN            62\n",
            "2   Yashi     21       NaN            85\n",
            "3    Mark     19       NaN            71\n",
            "4  Joshua     21       NaN            55\n",
            "5    John     24       NaN            78\n",
            "6     Ray     25       NaN            70\n",
            "7   Lilly     22       NaN            66\n",
            "8    Rose     23       NaN            71\n",
            "9  Rachel     22       NaN            89\n",
            "\n",
            "Following is the Result DataFrame: \n",
            "    Name_1  Age_1 Subject_1  Percentage_1\n",
            "0    Anuj     23       NaN            88\n",
            "2   Yashi     21       NaN            85\n",
            "3    Mark     19       NaN            71\n",
            "5    John     24       NaN            78\n",
            "8    Rose     23       NaN            71\n",
            "9  Rachel     22       NaN            89\n"
          ]
        }
      ]
    },
    {
      "cell_type": "code",
      "source": [
        "import pandas as pd\n",
        "\n",
        "# Create the dataframe\n",
        "df = pd.DataFrame({'Date':['10/2/2011', '11/2/2011', '12/2/2011', '13/2/11'],\n",
        "                    'Event':['Music', 'Poetry', 'Theatre', 'Comedy'],\n",
        "                    'Cost':[10000, 5000, 15000, 2000]})\n",
        "\n",
        "# Create an empty list\n",
        "Row_list =[]\n",
        "\n",
        "# Iterate over each row\n",
        "for i in range((df.shape[0])):\n",
        "\n",
        "    # Using iloc to access the values of\n",
        "    # the current row denoted by \"i\"\n",
        "    Row_list.append(list(df.iloc[i, :]))\n",
        "\n",
        "# Print the first 3 elements\n",
        "print(Row_list[:3])"
      ],
      "metadata": {
        "colab": {
          "base_uri": "https://localhost:8080/"
        },
        "id": "CgbNcAkGE5Pj",
        "outputId": "5a5d7bd8-0102-43d8-a178-2ff10f39d411"
      },
      "execution_count": null,
      "outputs": [
        {
          "output_type": "stream",
          "name": "stdout",
          "text": [
            "[['10/2/2011', 'Music', 10000], ['11/2/2011', 'Poetry', 5000], ['12/2/2011', 'Theatre', 15000]]\n"
          ]
        }
      ]
    },
    {
      "cell_type": "code",
      "source": [
        "# importing pandas as pd\n",
        "import pandas as pd\n",
        "\n",
        "# Create the dataframe\n",
        "df = pd.DataFrame({'Date':['10/2/2011', '11/2/2011', '12/2/2011', '13/2/11'],\n",
        "                    'Event':['Music', 'Poetry', 'Theatre', 'Comedy'],\n",
        "                    'Cost':[10000, 5000, 15000, 2000]})\n",
        "\n",
        "# Create an empty list\n",
        "Row_list =[]\n",
        "\n",
        "# Iterate over each row\n",
        "for i in range((df.shape[0])):\n",
        "    # Create a list to store the data\n",
        "    # of the current row\n",
        "    cur_row =[]\n",
        "\n",
        "    # iterate over all the columns\n",
        "    for j in range(df.shape[1]):\n",
        "\n",
        "        # append the data of each\n",
        "        # column to the list\n",
        "        cur_row.append(df.iat[i, j])\n",
        "\n",
        "    # append the current row to the list\n",
        "    Row_list.append(cur_row)\n",
        "\n",
        "# Print the first 3 elements\n",
        "print(Row_list[:3])"
      ],
      "metadata": {
        "colab": {
          "base_uri": "https://localhost:8080/"
        },
        "id": "JS4eQA2IGn69",
        "outputId": "22b13e09-57b1-462b-fcb2-0d412e4b2ed8"
      },
      "execution_count": null,
      "outputs": [
        {
          "output_type": "stream",
          "name": "stdout",
          "text": [
            "[['10/2/2011', 'Music', 10000], ['11/2/2011', 'Poetry', 5000], ['12/2/2011', 'Theatre', 15000]]\n"
          ]
        }
      ]
    },
    {
      "cell_type": "code",
      "source": [
        "import pandas as pd\n",
        "\n",
        "# Create a sample DataFrame\n",
        "data = {'Column1': [1, 2, 3, 4, 5],\n",
        "        'Column2': ['A', 'B', 'C', 'D', 'E']}\n",
        "df = pd.DataFrame(data)\n",
        "\n",
        "# Select rows where Column2 equals 'C' and limit the result to 2 rows\n",
        "selected_rows = df[df['Column2'] == 'C'].head(2)\n",
        "\n",
        "print(selected_rows)\n"
      ],
      "metadata": {
        "colab": {
          "base_uri": "https://localhost:8080/"
        },
        "id": "Pxck7QiMJ1-C",
        "outputId": "ab51aa16-f9d2-4680-95f8-778d5a6c08fa"
      },
      "execution_count": null,
      "outputs": [
        {
          "output_type": "stream",
          "name": "stdout",
          "text": [
            "   Column1 Column2\n",
            "2        3       C\n"
          ]
        }
      ]
    },
    {
      "cell_type": "code",
      "source": [
        "import pandas as pd\n",
        "\n",
        "# Create a sample DataFrame\n",
        "data = {'Name': ['John', 'Emma', 'Mike', 'Sarah'],\n",
        "        'Age': [25, 30, 35, 40]}\n",
        "df = pd.DataFrame(data)\n",
        "\n",
        "# Drop rows where Age is less than 30\n",
        "df = df.drop(df[df['Age'] < 30].index)\n",
        "\n",
        "print(df)\n"
      ],
      "metadata": {
        "colab": {
          "base_uri": "https://localhost:8080/"
        },
        "id": "3rQVb4ksJ_6T",
        "outputId": "f92a6122-d5c7-4826-804a-e52b5f9bc25d"
      },
      "execution_count": null,
      "outputs": [
        {
          "output_type": "stream",
          "name": "stdout",
          "text": [
            "    Name  Age\n",
            "1   Emma   30\n",
            "2   Mike   35\n",
            "3  Sarah   40\n"
          ]
        }
      ]
    },
    {
      "cell_type": "code",
      "source": [
        "import pandas as pd\n",
        "\n",
        "# Create a sample DataFrame\n",
        "data = {'Name': ['John', 'Emma', 'Mike'],\n",
        "        'Age': [25, 30, 35]}\n",
        "df = pd.DataFrame(data)\n",
        "\n",
        "# Create a new row\n",
        "new_row = {'Name': 'Sarah', 'Age': 40}\n",
        "\n",
        "# Define the position where the new row should be inserted\n",
        "position = 1\n",
        "\n",
        "# Use loc to insert the new row\n",
        "df = pd.concat([df.iloc[:position], pd.DataFrame([new_row]), df.iloc[position:]]).reset_index(drop=True)\n",
        "\n",
        "print(df)\n"
      ],
      "metadata": {
        "colab": {
          "base_uri": "https://localhost:8080/"
        },
        "id": "2JYM5EsnKUIx",
        "outputId": "70d3c839-7683-41aa-ca2b-44d5b3a79265"
      },
      "execution_count": null,
      "outputs": [
        {
          "output_type": "stream",
          "name": "stdout",
          "text": [
            "    Name  Age\n",
            "0   John   25\n",
            "1  Sarah   40\n",
            "2   Emma   30\n",
            "3   Mike   35\n"
          ]
        }
      ]
    },
    {
      "cell_type": "code",
      "source": [
        "import pandas as pd\n",
        "\n",
        "# Create a sample DataFrame\n",
        "data = {'Name': ['John', 'Emily', 'Josh'],\n",
        "        'Age': [25, 30, 35],\n",
        "        'City': ['New York', 'London', 'Paris']}\n",
        "df = pd.DataFrame(data)\n",
        "\n",
        "# Convert rows to a list\n",
        "rows_as_list = df.values.tolist()\n",
        "\n",
        "# Print the list of rows\n",
        "for row in rows_as_list:\n",
        "    print(row)\n"
      ],
      "metadata": {
        "colab": {
          "base_uri": "https://localhost:8080/"
        },
        "id": "SBiDysSbK0Ua",
        "outputId": "3899d4f6-787d-4563-9af7-afbacd39b8f2"
      },
      "execution_count": null,
      "outputs": [
        {
          "output_type": "stream",
          "name": "stdout",
          "text": [
            "['John', 25, 'New York']\n",
            "['Emily', 30, 'London']\n",
            "['Josh', 35, 'Paris']\n"
          ]
        }
      ]
    },
    {
      "cell_type": "code",
      "source": [
        "import pandas as pd\n",
        "\n",
        "# Create a sample DataFrame\n",
        "data = {'A': [10, 20, 30, 40, 50],\n",
        "        'B': [5, 15, 25, 35, 45],\n",
        "        'C': [1, 2, 3, 4, 5]}\n",
        "df = pd.DataFrame(data)\n",
        "\n",
        "# Rank the rows based on column 'A'\n",
        "df['Rank'] = df['A'].rank()\n",
        "\n",
        "print(df)\n"
      ],
      "metadata": {
        "colab": {
          "base_uri": "https://localhost:8080/"
        },
        "id": "Lnob-HtvK5KD",
        "outputId": "24706ec7-ba38-4476-a090-8ff40faf91d9"
      },
      "execution_count": null,
      "outputs": [
        {
          "output_type": "stream",
          "name": "stdout",
          "text": [
            "    A   B  C  Rank\n",
            "0  10   5  1   1.0\n",
            "1  20  15  2   2.0\n",
            "2  30  25  3   3.0\n",
            "3  40  35  4   4.0\n",
            "4  50  45  5   5.0\n"
          ]
        }
      ]
    },
    {
      "cell_type": "code",
      "source": [
        "import pandas as pd\n",
        "\n",
        "# Create a sample DataFrame\n",
        "data = {'Name': ['John', 'Alice', 'Bob'],\n",
        "        'Age': [25, 30, 20],\n",
        "        'Salary': [50000, 60000, 45000]}\n",
        "\n",
        "df = pd.DataFrame(data)\n",
        "\n",
        "# Sort the DataFrame by the 'Age' column in ascending order\n",
        "sorted_df = df.sort_values('Age')\n",
        "\n",
        "print(sorted_df)\n"
      ],
      "metadata": {
        "colab": {
          "base_uri": "https://localhost:8080/"
        },
        "id": "YPrgaR9YLIvY",
        "outputId": "6b68d8b4-c349-4f36-aafd-f74a1bcb33ba"
      },
      "execution_count": null,
      "outputs": [
        {
          "output_type": "stream",
          "name": "stdout",
          "text": [
            "    Name  Age  Salary\n",
            "2    Bob   20   45000\n",
            "0   John   25   50000\n",
            "1  Alice   30   60000\n"
          ]
        }
      ]
    },
    {
      "cell_type": "code",
      "source": [
        "import pandas as pd\n",
        "\n",
        "# Create a sample DataFrame\n",
        "data = {'Name': ['John', 'Alice', 'Bob', 'Emma'],\n",
        "        'Age': [25, 30, 35, 40]}\n",
        "df = pd.DataFrame(data)\n",
        "\n",
        "# Find the row with the maximum age\n",
        "max_row = df.loc[df['Age'].idxmax()]\n",
        "\n",
        "# Find the row with the minimum age\n",
        "min_row = df.loc[df['Age'].idxmin()]\n",
        "\n",
        "print(\"Row with maximum age:\")\n",
        "print(max_row)\n",
        "\n",
        "print(\"\\nRow with minimum age:\")\n",
        "print(min_row)\n"
      ],
      "metadata": {
        "colab": {
          "base_uri": "https://localhost:8080/"
        },
        "id": "QKfDFXCyLk2f",
        "outputId": "ba91be2e-74db-4a23-c38c-f547f2fea8bc"
      },
      "execution_count": null,
      "outputs": [
        {
          "output_type": "stream",
          "name": "stdout",
          "text": [
            "Row with maximum age:\n",
            "Name    Emma\n",
            "Age       40\n",
            "Name: 3, dtype: object\n",
            "\n",
            "Row with minimum age:\n",
            "Name    John\n",
            "Age       25\n",
            "Name: 0, dtype: object\n"
          ]
        }
      ]
    },
    {
      "cell_type": "code",
      "source": [
        "import pandas as pd\n",
        "\n",
        "# Create a sample DataFrame\n",
        "data = {'Name': ['John', 'Alice', 'Bob', 'Emma'],\n",
        "        'Age': [25, 30, 35, 40]}\n",
        "df = pd.DataFrame(data)\n",
        "\n",
        "# Filter rows containing 'o' in the Name column\n",
        "filtered_df = df[df['Name'].str.contains('o')]\n",
        "\n",
        "print(\"Rows containing 'o' in the Name:\")\n",
        "print(filtered_df)\n"
      ],
      "metadata": {
        "colab": {
          "base_uri": "https://localhost:8080/"
        },
        "id": "O-DRRJzwMMXQ",
        "outputId": "fbe433a1-c261-432a-ccdc-4081ee64b0bb"
      },
      "execution_count": null,
      "outputs": [
        {
          "output_type": "stream",
          "name": "stdout",
          "text": [
            "Rows containing 'o' in the Name:\n",
            "   Name  Age\n",
            "0  John   25\n",
            "2   Bob   35\n"
          ]
        }
      ]
    },
    {
      "cell_type": "code",
      "source": [
        "import pandas as pd\n",
        "\n",
        "# Create a sample DataFrame\n",
        "data = {'Name': ['John', 'Alice', 'Bob', 'Emma'],\n",
        "        'Age': [25, 30, 35, 40]}\n",
        "df = pd.DataFrame(data)\n",
        "\n",
        "# Convert the Name column to row index\n",
        "df = df.set_index('Name')\n",
        "\n",
        "print(\"DataFrame with Name column as row index:\")\n",
        "print(df)\n"
      ],
      "metadata": {
        "colab": {
          "base_uri": "https://localhost:8080/"
        },
        "id": "HBklzy-TMpjL",
        "outputId": "126c32c5-fbd5-4549-d7cf-8bb8310f68de"
      },
      "execution_count": null,
      "outputs": [
        {
          "output_type": "stream",
          "name": "stdout",
          "text": [
            "DataFrame with Name column as row index:\n",
            "       Age\n",
            "Name      \n",
            "John    25\n",
            "Alice   30\n",
            "Bob     35\n",
            "Emma    40\n"
          ]
        }
      ]
    },
    {
      "cell_type": "code",
      "source": [
        "import pandas as pd\n",
        "\n",
        "# Create a sample DataFrame\n",
        "data = {'Name': ['John', 'Alice', 'Bob', 'Emma'],\n",
        "        'Age': [25, 30, 35, 40]}\n",
        "df = pd.DataFrame(data)\n",
        "\n",
        "# Randomly select 2 rows from the DataFrame\n",
        "random_rows = df.sample(n=2)\n",
        "\n",
        "print(\"Randomly selected rows:\")\n",
        "print(random_rows)\n"
      ],
      "metadata": {
        "colab": {
          "base_uri": "https://localhost:8080/"
        },
        "id": "x1OwdWLzM4t1",
        "outputId": "cb981982-5155-4e1f-e355-fcb09553e8e5"
      },
      "execution_count": null,
      "outputs": [
        {
          "output_type": "stream",
          "name": "stdout",
          "text": [
            "Randomly selected rows:\n",
            "    Name  Age\n",
            "0   John   25\n",
            "1  Alice   30\n"
          ]
        }
      ]
    },
    {
      "cell_type": "markdown",
      "source": [
        "\n",
        "**8. Pandas Daraftame Columns Exercises **\n",
        "▪ Create a pandas column using for loop ▪ How to get column names in Pandas dataframe ▪ How to rename columns in Pandas DataFrame ▪ Get unique values from a column in Pandas DataFrame ▪ Return the Index label if some condition is satisfied over a column in Pandas Dataframe ▪\n",
        "Create a new column in Pandas DataFrame based on the existing columns ▪ Creating a\n",
        "Pandas dataframe column based on a given condition ▪ Getting Unique values from a column in Pandas dataframe ▪ Getting frequency counts of a columns in Pandas DataFrame ▪ Split a text column into two columns in Pandas DataFrame ▪ Get the index of minimum value in DataFrame column ▪ Get the index of maximum value in DataFrame column ▪ Difference of two columns in Pandas dataframe ▪ Get n-largest values from a particular column in Pandas DataFrame ▪ Get n-smallest values from a particular column in Pandas DataFrame ▪ How to drop one or multiple columns in Pandas Dataframe"
      ],
      "metadata": {
        "id": "GeMf22Z5Ov3A"
      }
    },
    {
      "cell_type": "code",
      "source": [
        "import pandas as pd\n",
        "\n",
        "data = {'Name': ['John', 'Alice', 'Bob'],\n",
        "        'Age': [25, 30, 35]}\n",
        "df = pd.DataFrame(data)\n",
        "\n",
        "new_column = []\n",
        "for index, row in df.iterrows():\n",
        "    new_value = row['Age'] * 2\n",
        "    new_column.append(new_value)\n",
        "\n",
        "df['NewColumn'] = new_column\n",
        "print(df)\n"
      ],
      "metadata": {
        "colab": {
          "base_uri": "https://localhost:8080/"
        },
        "id": "ThLNBj-MQbb7",
        "outputId": "148516b6-adfa-46aa-e6e0-919d1a591719"
      },
      "execution_count": null,
      "outputs": [
        {
          "output_type": "stream",
          "name": "stdout",
          "text": [
            "    Name  Age  NewColumn\n",
            "0   John   25         50\n",
            "1  Alice   30         60\n",
            "2    Bob   35         70\n"
          ]
        }
      ]
    },
    {
      "cell_type": "code",
      "source": [
        "import pandas as pd\n",
        "\n",
        "data = {'Name': ['John', 'Alice', 'Bob'],\n",
        "        'Age': [25, 30, 35]}\n",
        "df = pd.DataFrame(data)\n",
        "\n",
        "column_names = df.columns\n",
        "print(column_names)\n"
      ],
      "metadata": {
        "colab": {
          "base_uri": "https://localhost:8080/"
        },
        "id": "GJK-SMH6QjiC",
        "outputId": "40cd1639-4254-43dd-8af3-e51c95ac9c6f"
      },
      "execution_count": null,
      "outputs": [
        {
          "output_type": "stream",
          "name": "stdout",
          "text": [
            "Index(['Name', 'Age'], dtype='object')\n"
          ]
        }
      ]
    },
    {
      "cell_type": "code",
      "source": [
        "import pandas as pd\n",
        "\n",
        "data = {'Name': ['John', 'Alice', 'Bob'],\n",
        "        'Age': [25, 30, 35]}\n",
        "df = pd.DataFrame(data)\n",
        "\n",
        "df = df.rename(columns={'Name': 'Full Name', 'Age': 'Years'})\n",
        "print(df)\n"
      ],
      "metadata": {
        "colab": {
          "base_uri": "https://localhost:8080/"
        },
        "id": "SJbQ0Ud8Q4fX",
        "outputId": "ead7213e-22d6-49e2-d7cf-d446e6d909aa"
      },
      "execution_count": null,
      "outputs": [
        {
          "output_type": "stream",
          "name": "stdout",
          "text": [
            "  Full Name  Years\n",
            "0      John     25\n",
            "1     Alice     30\n",
            "2       Bob     35\n"
          ]
        }
      ]
    },
    {
      "cell_type": "code",
      "source": [
        "import pandas as pd\n",
        "\n",
        "# Create a sample DataFrame\n",
        "data = {'A': [1, 2, 3, 2, 1, 3]}\n",
        "df = pd.DataFrame(data)\n",
        "\n",
        "# Get unique values from column 'A'\n",
        "unique_values = df['A'].unique()\n",
        "print(unique_values)\n"
      ],
      "metadata": {
        "colab": {
          "base_uri": "https://localhost:8080/"
        },
        "id": "Kq3hKZL2hD_u",
        "outputId": "3e4b0c37-2b0d-4069-eb7f-2213b46b799f"
      },
      "execution_count": null,
      "outputs": [
        {
          "output_type": "stream",
          "name": "stdout",
          "text": [
            "[1 2 3]\n"
          ]
        }
      ]
    },
    {
      "cell_type": "code",
      "source": [
        "import pandas as pd\n",
        "\n",
        "# Create a sample DataFrame\n",
        "data = {'A': [1, 2, 3, 2, 1, 3]}\n",
        "df = pd.DataFrame(data)\n",
        "\n",
        "# Return the index label if the value in column 'A' is equal to 2\n",
        "index_label = df.loc[df['A'] == 2].index[0]\n",
        "print(index_label)\n"
      ],
      "metadata": {
        "colab": {
          "base_uri": "https://localhost:8080/"
        },
        "id": "zSUV9hrDhHvR",
        "outputId": "4f41bc56-6a24-4248-b2fc-e84f7e795ba7"
      },
      "execution_count": null,
      "outputs": [
        {
          "output_type": "stream",
          "name": "stdout",
          "text": [
            "1\n"
          ]
        }
      ]
    },
    {
      "cell_type": "code",
      "source": [
        "import pandas as pd\n",
        "\n",
        "# Create a sample DataFrame\n",
        "data = {'A': [1, 2, 3], 'B': [4, 5, 6]}\n",
        "df = pd.DataFrame(data)\n",
        "\n",
        "# Create a new column 'C' based on the sum of columns 'A' and 'B'\n",
        "df['C'] = df['A'] + df['B']\n",
        "print(df)\n"
      ],
      "metadata": {
        "colab": {
          "base_uri": "https://localhost:8080/"
        },
        "id": "4z-X5TL9hnr5",
        "outputId": "d6ae3f2f-01c3-4e9c-a72f-600e13ea1677"
      },
      "execution_count": null,
      "outputs": [
        {
          "output_type": "stream",
          "name": "stdout",
          "text": [
            "   A  B  C\n",
            "0  1  4  5\n",
            "1  2  5  7\n",
            "2  3  6  9\n"
          ]
        }
      ]
    },
    {
      "cell_type": "code",
      "source": [
        "import pandas as pd\n",
        "import numpy as np\n",
        "\n",
        "# Create a sample DataFrame\n",
        "data = {'A': [1, 2, 3]}\n",
        "df = pd.DataFrame(data)\n",
        "\n",
        "# Create a new column 'B' based on the condition: if 'A' is greater than 2, assign 'High', else assign 'Low'\n",
        "df['B'] = np.where(df['A'] > 2, 'High', 'Low')\n",
        "print(df)\n"
      ],
      "metadata": {
        "colab": {
          "base_uri": "https://localhost:8080/"
        },
        "id": "LvPe2etUhtvQ",
        "outputId": "e8e2c49f-521c-4cd8-ed49-4798f126acec"
      },
      "execution_count": null,
      "outputs": [
        {
          "output_type": "stream",
          "name": "stdout",
          "text": [
            "   A     B\n",
            "0  1   Low\n",
            "1  2   Low\n",
            "2  3  High\n"
          ]
        }
      ]
    },
    {
      "cell_type": "code",
      "source": [
        "import pandas as pd\n",
        "\n",
        "# Create a sample DataFrame\n",
        "data = {'Column1': ['A', 'B', 'A', 'C', 'B', 'D']}\n",
        "df = pd.DataFrame(data)\n",
        "\n",
        "# Get unique values from 'Column1'\n",
        "unique_values = df['Column1'].unique()\n",
        "\n",
        "# Print the unique values\n",
        "print(unique_values)\n"
      ],
      "metadata": {
        "colab": {
          "base_uri": "https://localhost:8080/"
        },
        "id": "F7U1o6-nfx0C",
        "outputId": "989ca5ec-97d4-4f2b-81dd-7194beb05144"
      },
      "execution_count": null,
      "outputs": [
        {
          "output_type": "stream",
          "name": "stdout",
          "text": [
            "['A' 'B' 'C' 'D']\n"
          ]
        }
      ]
    },
    {
      "cell_type": "code",
      "source": [
        "import pandas as pd\n",
        "\n",
        "data = {'Name': ['John', 'Alice', 'Bob', 'John'],\n",
        "        'Age': [25, 30, 35, 25]}\n",
        "df = pd.DataFrame(data)\n",
        "\n",
        "frequency_counts = df['Name'].value_counts()\n",
        "print(frequency_counts)"
      ],
      "metadata": {
        "colab": {
          "base_uri": "https://localhost:8080/"
        },
        "id": "Fw2-NsPyXITX",
        "outputId": "a34b814a-0581-41b0-d584-0e2167ebd464"
      },
      "execution_count": null,
      "outputs": [
        {
          "output_type": "stream",
          "name": "stdout",
          "text": [
            "John     2\n",
            "Alice    1\n",
            "Bob      1\n",
            "Name: Name, dtype: int64\n"
          ]
        }
      ]
    },
    {
      "cell_type": "code",
      "source": [
        "import pandas as pd\n",
        "\n",
        "data = {'Name': ['John Doe', 'Alice Smith', 'Bob Johnson'],\n",
        "        'Age': [25, 30, 35]}\n",
        "df = pd.DataFrame(data)\n",
        "\n",
        "df[['First Name', 'Last Name']] = df['Name'].str.split(' ', expand=True)\n",
        "print(df)\n"
      ],
      "metadata": {
        "colab": {
          "base_uri": "https://localhost:8080/"
        },
        "id": "PjMgpOkTXrrp",
        "outputId": "b884764c-989b-42a3-f538-843d9e7094e7"
      },
      "execution_count": null,
      "outputs": [
        {
          "output_type": "stream",
          "name": "stdout",
          "text": [
            "          Name  Age First Name Last Name\n",
            "0     John Doe   25       John       Doe\n",
            "1  Alice Smith   30      Alice     Smith\n",
            "2  Bob Johnson   35        Bob   Johnson\n"
          ]
        }
      ]
    },
    {
      "cell_type": "code",
      "source": [
        "import pandas as pd\n",
        "\n",
        "data = {'Name': ['John', 'Alice', 'Bob'],\n",
        "        'Age': [25, 30, 35]}\n",
        "df = pd.DataFrame(data)\n",
        "\n",
        "min_index = df['Age'].idxmin()\n",
        "print(min_index)"
      ],
      "metadata": {
        "colab": {
          "base_uri": "https://localhost:8080/"
        },
        "id": "xkJEatnfYG-j",
        "outputId": "e99c2d3f-2114-4037-f6c0-b65ac99f2185"
      },
      "execution_count": null,
      "outputs": [
        {
          "output_type": "stream",
          "name": "stdout",
          "text": [
            "0\n"
          ]
        }
      ]
    },
    {
      "cell_type": "code",
      "source": [
        "import pandas as pd\n",
        "\n",
        "data = {'Name': ['John', 'Alice', 'Bob'],\n",
        "        'Age': [25, 30, 35]}\n",
        "df = pd.DataFrame(data)\n",
        "\n",
        "max_index = df['Age'].idxmax()\n",
        "print(max_index)\n"
      ],
      "metadata": {
        "colab": {
          "base_uri": "https://localhost:8080/"
        },
        "id": "2soh5aCtYJNy",
        "outputId": "92df48b7-2976-4996-e305-2a51fdf5fb9c"
      },
      "execution_count": null,
      "outputs": [
        {
          "output_type": "stream",
          "name": "stdout",
          "text": [
            "2\n"
          ]
        }
      ]
    },
    {
      "cell_type": "code",
      "source": [
        "import pandas as pd\n",
        "\n",
        "data = {'A': [10, 15, 20],\n",
        "        'B': [5, 8, 12]}\n",
        "df = pd.DataFrame(data)\n",
        "\n",
        "df['Difference'] = df['A'] - df['B']\n",
        "print(df)"
      ],
      "metadata": {
        "colab": {
          "base_uri": "https://localhost:8080/"
        },
        "id": "lcQdHtKPYdbI",
        "outputId": "f47a2cab-5676-4d75-886f-e8a032466110"
      },
      "execution_count": null,
      "outputs": [
        {
          "output_type": "stream",
          "name": "stdout",
          "text": [
            "    A   B  Difference\n",
            "0  10   5           5\n",
            "1  15   8           7\n",
            "2  20  12           8\n"
          ]
        }
      ]
    },
    {
      "cell_type": "code",
      "source": [
        "import pandas as pd\n",
        "\n",
        "data = {'Name': ['John', 'Alice', 'Bob'],\n",
        "        'Age': [25, 30, 35]}\n",
        "df = pd.DataFrame(data)\n",
        "\n",
        "n_largest = df.nlargest(2, 'Age')\n",
        "print(n_largest)"
      ],
      "metadata": {
        "colab": {
          "base_uri": "https://localhost:8080/"
        },
        "id": "kFLmhMBvYnWJ",
        "outputId": "d2d1a684-daee-48c9-edaa-39b0d7e67ef4"
      },
      "execution_count": null,
      "outputs": [
        {
          "output_type": "stream",
          "name": "stdout",
          "text": [
            "    Name  Age\n",
            "2    Bob   35\n",
            "1  Alice   30\n"
          ]
        }
      ]
    },
    {
      "cell_type": "code",
      "source": [
        "import pandas as pd\n",
        "\n",
        "data = {'Name': ['John', 'Alice', 'Bob'],\n",
        "        'Age': [25, 30, 35]}\n",
        "df = pd.DataFrame(data)\n",
        "\n",
        "n_smallest = df.nsmallest(2, 'Age')\n",
        "print(n_smallest)"
      ],
      "metadata": {
        "colab": {
          "base_uri": "https://localhost:8080/"
        },
        "id": "xX0gv3HQYu2Q",
        "outputId": "bec1ba9e-152c-4996-bf0f-6921df814204"
      },
      "execution_count": null,
      "outputs": [
        {
          "output_type": "stream",
          "name": "stdout",
          "text": [
            "    Name  Age\n",
            "0   John   25\n",
            "1  Alice   30\n"
          ]
        }
      ]
    },
    {
      "cell_type": "code",
      "source": [
        "import pandas as pd\n",
        "\n",
        "# Create the dataframe\n",
        "df = pd.DataFrame({'Date':['10/2/2011', '11/2/2011', '12/2/2011', '13/2/11'],\n",
        "                    'Event':['Music', 'Poetry', 'Theatre', 'Comedy'],\n",
        "                    'Cost':[10000, 5000, 15000, 2000]})\n",
        "\n",
        "# Create an empty list\n",
        "Row_list =[]\n",
        "\n",
        "# Iterate over each row\n",
        "for i in range((df.shape[0])):\n",
        "    # Create a list to store the data\n",
        "    # of the current row\n",
        "    cur_row =[]\n",
        "\n",
        "    # iterate over all the columns\n",
        "    for j in range(df.shape[1]):\n",
        "\n",
        "        # append the data of each\n",
        "        # column to the list\n",
        "        cur_row.append(df.iat[i, j])\n",
        "\n",
        "    # append the current row to the list\n",
        "    Row_list.append(cur_row)\n",
        "\n",
        "# Print the first 3 elements\n",
        "print(Row_list[:3])"
      ],
      "metadata": {
        "colab": {
          "base_uri": "https://localhost:8080/"
        },
        "id": "h2t2fpTWazxR",
        "outputId": "95bb77d6-9331-4673-c6c0-30dbc7bd3b84"
      },
      "execution_count": null,
      "outputs": [
        {
          "output_type": "stream",
          "name": "stdout",
          "text": [
            "[['10/2/2011', 'Music', 10000], ['11/2/2011', 'Poetry', 5000], ['12/2/2011', 'Theatre', 15000]]\n"
          ]
        }
      ]
    },
    {
      "cell_type": "markdown",
      "source": [
        "\n",
        "\n",
        "**9. Pandas Series – Practice Exercise** ▪ Create a Pandas Series from array ▪ Creating a Pandas Series from Dictionary ▪ Creating a Pandas Series from Lists ▪ Create Pandas Series using NumPy functions ▪ Access the elements of a Series in Pandas"
      ],
      "metadata": {
        "id": "fdhnYLGBiUJc"
      }
    },
    {
      "cell_type": "code",
      "source": [
        "import pandas as pd\n",
        "import numpy as np\n",
        "\n",
        "array = np.array([10, 20, 30, 40, 50])\n",
        "series = pd.Series(array)\n",
        "print(series)\n"
      ],
      "metadata": {
        "colab": {
          "base_uri": "https://localhost:8080/"
        },
        "id": "Gp9IUuZSinni",
        "outputId": "a1357371-cd8b-4a7f-f02e-30d78ecbb597"
      },
      "execution_count": null,
      "outputs": [
        {
          "output_type": "stream",
          "name": "stdout",
          "text": [
            "0    10\n",
            "1    20\n",
            "2    30\n",
            "3    40\n",
            "4    50\n",
            "dtype: int64\n"
          ]
        }
      ]
    },
    {
      "cell_type": "code",
      "source": [
        "import pandas as pd\n",
        "\n",
        "dictionary = {'A': 10, 'B': 20, 'C': 30}\n",
        "series = pd.Series(dictionary)\n",
        "print(series)\n"
      ],
      "metadata": {
        "colab": {
          "base_uri": "https://localhost:8080/"
        },
        "id": "vnoU1H9uixFD",
        "outputId": "7342521f-8a00-4f24-b0e4-24402ba03bda"
      },
      "execution_count": null,
      "outputs": [
        {
          "output_type": "stream",
          "name": "stdout",
          "text": [
            "A    10\n",
            "B    20\n",
            "C    30\n",
            "dtype: int64\n"
          ]
        }
      ]
    },
    {
      "cell_type": "code",
      "source": [
        "import pandas as pd\n",
        "import numpy as np\n",
        "\n",
        "series = pd.Series(np.arange(1, 6))\n",
        "print(series)\n"
      ],
      "metadata": {
        "colab": {
          "base_uri": "https://localhost:8080/"
        },
        "id": "5Tu3WNPbjvCy",
        "outputId": "1c0b28b1-2213-41cc-a920-9ae857dc9202"
      },
      "execution_count": null,
      "outputs": [
        {
          "output_type": "stream",
          "name": "stdout",
          "text": [
            "0    1\n",
            "1    2\n",
            "2    3\n",
            "3    4\n",
            "4    5\n",
            "dtype: int64\n"
          ]
        }
      ]
    },
    {
      "cell_type": "code",
      "source": [
        "import pandas as pd\n",
        "\n",
        "list_data = ['apple', 'banana', 'cherry', 'date', 'elderberry']\n",
        "series = pd.Series(list_data)\n",
        "print(series)\n"
      ],
      "metadata": {
        "colab": {
          "base_uri": "https://localhost:8080/"
        },
        "id": "7obb3e7Vj_vE",
        "outputId": "80b366be-da25-46b6-971f-6c11ad67e3b0"
      },
      "execution_count": null,
      "outputs": [
        {
          "output_type": "stream",
          "name": "stdout",
          "text": [
            "0         apple\n",
            "1        banana\n",
            "2        cherry\n",
            "3          date\n",
            "4    elderberry\n",
            "dtype: object\n"
          ]
        }
      ]
    },
    {
      "cell_type": "code",
      "source": [
        "import pandas as pd\n",
        "import numpy as np\n",
        "\n",
        "series = pd.Series(np.arange(1, 6))\n",
        "print(series)\n"
      ],
      "metadata": {
        "colab": {
          "base_uri": "https://localhost:8080/"
        },
        "id": "Cu31LEpJkNmt",
        "outputId": "fd7a8e01-5ed9-4b70-96cc-90c6cd184b75"
      },
      "execution_count": null,
      "outputs": [
        {
          "output_type": "stream",
          "name": "stdout",
          "text": [
            "0    1\n",
            "1    2\n",
            "2    3\n",
            "3    4\n",
            "4    5\n",
            "dtype: int64\n"
          ]
        }
      ]
    },
    {
      "cell_type": "code",
      "source": [
        "import pandas as pd\n",
        "\n",
        "series = pd.Series([10, 20, 30, 40, 50])\n",
        "print(series[0])  # Accessing the first element\n",
        "print(series[1:4])  # Accessing a range of elements\n",
        "print(series.iloc[2])  # Accessing element by index using iloc\n",
        "print(series.loc[3])  # Accessing element by label using loc\n"
      ],
      "metadata": {
        "colab": {
          "base_uri": "https://localhost:8080/"
        },
        "id": "O6lcvt9akk0m",
        "outputId": "85cb70e4-ed40-4ac0-a3ff-782db2c471c2"
      },
      "execution_count": null,
      "outputs": [
        {
          "output_type": "stream",
          "name": "stdout",
          "text": [
            "10\n",
            "1    20\n",
            "2    30\n",
            "3    40\n",
            "dtype: int64\n",
            "30\n",
            "40\n"
          ]
        }
      ]
    },
    {
      "cell_type": "markdown",
      "source": [
        "\n",
        "\n",
        "**10. Pandas Datetime Exercises**\n",
        "▪ Convert the column type from string to datetime format in Pandas dataframe.\n"
      ],
      "metadata": {
        "id": "FAiOrAiSk2Ju"
      }
    },
    {
      "cell_type": "code",
      "source": [
        "# importing pandas as pd\n",
        "import pandas as pd\n",
        "\n",
        "# Creating the dataframe\n",
        "df = pd.DataFrame({'Date':['11/8/2011', '04/23/2008', '10/2/2019'],\n",
        "                'Event':['Music', 'Poetry', 'Theatre'],\n",
        "                'Cost':[10000, 5000, 15000]})\n",
        "\n",
        "# Print the dataframe\n",
        "print(df)\n",
        "\n",
        "# Now we will check the data type\n",
        "# of the 'Date' column\n",
        "df.info()"
      ],
      "metadata": {
        "colab": {
          "base_uri": "https://localhost:8080/"
        },
        "id": "ZYs5nx5qYdlw",
        "outputId": "d5fd7fe9-f865-4f02-b7b8-99fe4eb35576"
      },
      "execution_count": null,
      "outputs": [
        {
          "output_type": "stream",
          "name": "stdout",
          "text": [
            "         Date    Event   Cost\n",
            "0   11/8/2011    Music  10000\n",
            "1  04/23/2008   Poetry   5000\n",
            "2   10/2/2019  Theatre  15000\n",
            "<class 'pandas.core.frame.DataFrame'>\n",
            "RangeIndex: 3 entries, 0 to 2\n",
            "Data columns (total 3 columns):\n",
            " #   Column  Non-Null Count  Dtype \n",
            "---  ------  --------------  ----- \n",
            " 0   Date    3 non-null      object\n",
            " 1   Event   3 non-null      object\n",
            " 2   Cost    3 non-null      int64 \n",
            "dtypes: int64(1), object(2)\n",
            "memory usage: 200.0+ bytes\n"
          ]
        }
      ]
    }
  ]
}